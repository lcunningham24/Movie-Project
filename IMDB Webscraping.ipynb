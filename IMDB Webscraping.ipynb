{
 "cells": [
  {
   "cell_type": "code",
   "execution_count": 2,
   "metadata": {},
   "outputs": [
    {
     "data": {
      "text/plain": [
       "<Response [200]>"
      ]
     },
     "execution_count": 2,
     "metadata": {},
     "output_type": "execute_result"
    }
   ],
   "source": [
    "import requests\n",
    "page_1 = requests.get(\"https://www.imdb.com/search/title/?release_date=2010-01-01,2020-01-01&sort=boxoffice_gross_us,desc&view=advanced\")\n",
    "page_1"
   ]
  },
  {
   "cell_type": "code",
   "execution_count": 4,
   "metadata": {},
   "outputs": [],
   "source": [
    "from bs4 import BeautifulSoup\n",
    "soup_1 = BeautifulSoup(page_1.content, 'html.parser')"
   ]
  },
  {
   "cell_type": "code",
   "execution_count": 5,
   "metadata": {},
   "outputs": [],
   "source": [
    "page_1 = soup_1.find('div',class_=\"lister-list\")"
   ]
  },
  {
   "cell_type": "code",
   "execution_count": 8,
   "metadata": {},
   "outputs": [
    {
     "data": {
      "text/plain": [
       "['Star Wars: Episode VII - The Force Awakens',\n",
       " 'Avengers: Endgame',\n",
       " 'Black Panther',\n",
       " 'Avengers: Infinity War',\n",
       " 'Jurassic World',\n",
       " 'The Avengers',\n",
       " 'Star Wars: Episode VIII - The Last Jedi',\n",
       " 'Incredibles 2',\n",
       " 'The Lion King',\n",
       " 'Rogue One: A Star Wars Story',\n",
       " 'Star Wars: Episode IX - The Rise of Skywalker',\n",
       " 'Beauty and the Beast',\n",
       " 'Finding Dory',\n",
       " 'Frozen II',\n",
       " 'Avengers: Age of Ultron',\n",
       " 'The Dark Knight Rises',\n",
       " 'Toy Story 4',\n",
       " 'Captain Marvel',\n",
       " 'The Hunger Games: Catching Fire',\n",
       " 'Jurassic World: Fallen Kingdom',\n",
       " 'Toy Story 3',\n",
       " 'Wonder Woman',\n",
       " 'Iron Man Three',\n",
       " 'Captain America: Civil War',\n",
       " 'The Hunger Games',\n",
       " 'Jumanji: Welcome to the Jungle',\n",
       " 'Frozen',\n",
       " 'Spider-Man: Far from Home',\n",
       " 'Guardians of the Galaxy Vol. 2',\n",
       " 'Harry Potter and the Deathly Hallows: Part 2',\n",
       " 'The Secret Life of Pets',\n",
       " 'Despicable Me 2',\n",
       " 'The Jungle Book',\n",
       " 'Deadpool',\n",
       " 'Inside Out',\n",
       " 'Aladdin',\n",
       " 'Furious 7',\n",
       " 'Transformers: Dark of the Moon',\n",
       " 'American Sniper',\n",
       " 'Zootopia',\n",
       " 'The Hunger Games: Mockingjay - Part 1',\n",
       " 'Minions',\n",
       " 'Joker',\n",
       " 'Aquaman',\n",
       " 'Spider-Man: Homecoming',\n",
       " 'Alice in Wonderland',\n",
       " 'Guardians of the Galaxy',\n",
       " 'Batman v Superman: Dawn of Justice',\n",
       " 'It',\n",
       " 'Suicide Squad']"
      ]
     },
     "execution_count": 8,
     "metadata": {},
     "output_type": "execute_result"
    }
   ],
   "source": [
    "#list of titles\n",
    "top_50_movies = [h3.find('a') for h3 in page_1.findAll('h3')]\n",
    "titles = []\n",
    "for title in top_50_movies:\n",
    "    titles.append(title.text)\n",
    "titles"
   ]
  },
  {
   "cell_type": "code",
   "execution_count": 9,
   "metadata": {},
   "outputs": [
    {
     "data": {
      "text/plain": [
       "50"
      ]
     },
     "execution_count": 9,
     "metadata": {},
     "output_type": "execute_result"
    }
   ],
   "source": [
    "len(titles)"
   ]
  },
  {
   "cell_type": "code",
   "execution_count": 10,
   "metadata": {},
   "outputs": [],
   "source": [
    "page_2 = requests.get(\"https://www.imdb.com/search/title/?release_date=2010-01-01,2020-01-01&sort=boxoffice_gross_us,desc&start=51&ref_=adv_nxt\")"
   ]
  },
  {
   "cell_type": "code",
   "execution_count": 11,
   "metadata": {},
   "outputs": [],
   "source": [
    "soup_2 = BeautifulSoup(page_2.content, 'html.parser')"
   ]
  },
  {
   "cell_type": "code",
   "execution_count": 12,
   "metadata": {},
   "outputs": [],
   "source": [
    "page_2 = soup_2.find('div',class_=\"lister-list\")"
   ]
  },
  {
   "cell_type": "code",
   "execution_count": 14,
   "metadata": {},
   "outputs": [
    {
     "data": {
      "text/plain": [
       "['Deadpool 2',\n",
       " 'Jumanji: The Next Level',\n",
       " 'Thor: Ragnarok',\n",
       " 'Iron Man 2',\n",
       " 'Skyfall',\n",
       " 'The Hobbit: An Unexpected Journey',\n",
       " 'The Twilight Saga: Eclipse',\n",
       " 'Harry Potter and the Deathly Hallows: Part 1',\n",
       " 'Inception',\n",
       " 'The Twilight Saga: Breaking Dawn - Part 2',\n",
       " 'Man of Steel',\n",
       " 'The Hunger Games: Mockingjay - Part 2',\n",
       " 'The Twilight Saga: Breaking Dawn - Part 1',\n",
       " 'Gravity',\n",
       " 'The Grinch',\n",
       " 'Sing',\n",
       " 'Monsters University',\n",
       " 'Despicable Me 3',\n",
       " 'The Amazing Spider-Man',\n",
       " 'Captain America: The Winter Soldier',\n",
       " 'The Hobbit: The Desolation of Smaug',\n",
       " 'The Lego Movie',\n",
       " 'The Hobbit: The Battle of the Five Armies',\n",
       " 'The Hangover Part II',\n",
       " 'Despicable Me',\n",
       " 'Moana',\n",
       " 'Transformers: Age of Extinction',\n",
       " 'Maleficent',\n",
       " 'Pirates of the Caribbean: On Stranger Tides',\n",
       " 'Furious 6',\n",
       " 'Shrek Forever After',\n",
       " 'Brave',\n",
       " 'Oz the Great and Powerful',\n",
       " 'Fantastic Beasts and Where to Find Them',\n",
       " 'X-Men: Days of Future Past',\n",
       " 'Doctor Strange',\n",
       " 'Justice League',\n",
       " 'Star Trek Into Darkness',\n",
       " 'The Martian',\n",
       " 'Logan',\n",
       " 'The Fate of the Furious',\n",
       " 'Big Hero 6',\n",
       " 'Mission: Impossible - Fallout',\n",
       " 'Ted',\n",
       " 'How to Train Your Dragon',\n",
       " 'Ant-Man and the Wasp',\n",
       " 'Bohemian Rhapsody',\n",
       " \"Madagascar 3: Europe's Most Wanted\",\n",
       " 'A Star Is Born',\n",
       " 'The Lorax']"
      ]
     },
     "execution_count": 14,
     "metadata": {},
     "output_type": "execute_result"
    }
   ],
   "source": [
    "next_50_movies = [h3.find('a') for h3 in page_2.findAll('h3')]\n",
    "next_50_titles = []\n",
    "for title in next_50_movies:\n",
    "    next_50_titles.append(title.text)\n",
    "next_50_titles"
   ]
  },
  {
   "cell_type": "code",
   "execution_count": null,
   "metadata": {},
   "outputs": [],
   "source": []
  }
 ],
 "metadata": {
  "kernelspec": {
   "display_name": "Python 3",
   "language": "python",
   "name": "python3"
  },
  "language_info": {
   "codemirror_mode": {
    "name": "ipython",
    "version": 3
   },
   "file_extension": ".py",
   "mimetype": "text/x-python",
   "name": "python",
   "nbconvert_exporter": "python",
   "pygments_lexer": "ipython3",
   "version": "3.7.4"
  }
 },
 "nbformat": 4,
 "nbformat_minor": 2
}
